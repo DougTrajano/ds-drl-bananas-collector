{
 "cells": [
  {
   "cell_type": "markdown",
   "metadata": {},
   "source": [
    "# Navigation\n",
    "\n",
    "In this notebook, I'll train an agent to solve the Reacher Environment using Unity ML-Agents.\n",
    "\n",
    "This project is part of my [Deep Reinforcement Learning Nanodegree](https://www.udacity.com/course/deep-reinforcement-learning-nanodegree--nd893).\n",
    "\n",
    "<img src=\"https://user-images.githubusercontent.com/10624937/42135619-d90f2f28-7d12-11e8-8823-82b970a54d7e.gif\" alt=\"Navigation Environment\" width=\"500\" height=\"600\">\n",
    "\n",
    "---\n",
    "\n",
    "# Index\n",
    "\n",
    "- [1. Setup the Environment](#1.-Setup-the-Environment)\n",
    "- [2. Start the Environment](#2.-Start-the-Environment)\n",
    "- [3. Examine the State and Action Spaces](#3.-Examine-the-State-and-Action-Spaces)\n",
    "- [4. Define helper functions to Agent trainment](#4.-Define-helper-functions-to-Agent-trainment)\n",
    "- [5. Develop the Agent to collect bananas](#5.-Develop-the-Agent-to-collect-bananas)\n",
    " - [5.1 Agent with ReplayMemory](#5.1-Agent-with-ReplayMemory)\n",
    " - [5.2 Agent with PrioritizedMemory](#5.2-Agent-with-PrioritizedMemory)\n",
    " - [5.3 Plot agents losses along the training sessions](#5.3-Plot-agents-losses-along-the-training-sessions)\n",
    " - [5.4 Save weights](#5.4-Save-weights)\n",
    " - [5.5 Load weights](#5.5-Load-weights)\n",
    "- [6. Test Agent on Environment](#6.-Test-Agent-on-Environment)\n",
    "- [7. Conclusions](#7.-Conclusions)"
   ]
  },
  {
   "cell_type": "markdown",
   "metadata": {},
   "source": [
    "## 1. Setup the Environment\n",
    "\n",
    "<img align=\"left\" width=\"150\" src=\"https://www.nclouds.com/img/services/toolkit/sagemaker.png\"/>\n",
    "\n",
    "This notebook was developed on AWS SageMaker.\n",
    "\n",
    "The kernel used is **conda_python3**\n",
    "\n",
    "To setup this environment on SageMaker you need to run the next 3 cells."
   ]
  },
  {
   "cell_type": "code",
   "execution_count": null,
   "metadata": {},
   "outputs": [],
   "source": [
    "!pip install --upgrade pip"
   ]
  },
  {
   "cell_type": "code",
   "execution_count": null,
   "metadata": {},
   "outputs": [],
   "source": [
    "!pip install -r requirements.txt"
   ]
  },
  {
   "cell_type": "code",
   "execution_count": 1,
   "metadata": {},
   "outputs": [
    {
     "name": "stderr",
     "output_type": "stream",
     "text": [
      "ERROR: Could not find a version that satisfies the requirement torch==0.4.0 (from unityagents==0.4.0) (from versions: 0.1.2, 0.1.2.post1, 0.1.2.post2)\n",
      "ERROR: No matching distribution found for torch==0.4.0 (from unityagents==0.4.0)\n"
     ]
    }
   ],
   "source": [
    "!pip -q install ./python"
   ]
  },
  {
   "cell_type": "markdown",
   "metadata": {},
   "source": [
    "## 2. Start the Environment\n",
    "\n",
    "We begin by importing some necessary packages.  If the code cell below returns an error, please revisit the project instructions to double-check that you have installed [Unity ML-Agents](https://github.com/Unity-Technologies/ml-agents/blob/master/docs/Installation.md) and [NumPy](http://www.numpy.org/)."
   ]
  },
  {
   "cell_type": "code",
   "execution_count": 1,
   "metadata": {},
   "outputs": [],
   "source": [
    "import os\n",
    "import time\n",
    "import json\n",
    "import warnings\n",
    "import numpy as np\n",
    "\n",
    "from tqdm import tqdm\n",
    "from agent import Agent\n",
    "from datetime import datetime\n",
    "from collections import deque\n",
    "import matplotlib.pyplot as plt\n",
    "from unityagents import UnityEnvironment\n",
    "from sklearn.model_selection import ParameterGrid\n",
    "\n",
    "warnings.simplefilter(\"ignore\", UserWarning)\n",
    "os.environ['KMP_DUPLICATE_LIB_OK']='True'"
   ]
  },
  {
   "cell_type": "markdown",
   "metadata": {},
   "source": [
    "Next, we will start the environment!  **_Before running the code cell below_**, change the `env_path` variable to match the location of the Unity environment that you downloaded.\n",
    "\n",
    "- **Windows** (x86_64): `\"/Banana_Windows_x86_64/Banana.exe\"`\n",
    "- **Linux** (x86_64, headless): `\"/Banana_Linux_NoVis/Banana.x86_64\"`\n",
    "\n",
    "If your system isn't in the list, please, download the environment from [here](https://github.com/udacity/deep-reinforcement-learning/tree/master/p1_navigation).\n",
    "\n",
    "The `file_name` parameter needs to be something like that:\n",
    "\n",
    "```\n",
    "env = UnityEnvironment(file_name=\"Banana_Linux_NoVis/Banana.x86_64\")\n",
    "```"
   ]
  },
  {
   "cell_type": "code",
   "execution_count": 2,
   "metadata": {},
   "outputs": [
    {
     "name": "stderr",
     "output_type": "stream",
     "text": [
      "INFO:unityagents:\n",
      "'Academy' started successfully!\n",
      "Unity Academy name: Academy\n",
      "        Number of Brains: 1\n",
      "        Number of External Brains : 1\n",
      "        Lesson number : 0\n",
      "        Reset Parameters :\n",
      "\t\t\n",
      "Unity brain name: BananaBrain\n",
      "        Number of Visual Observations (per agent): 0\n",
      "        Vector Observation space type: continuous\n",
      "        Vector Observation space size (per agent): 37\n",
      "        Number of stacked Vector Observation: 1\n",
      "        Vector Action space type: discrete\n",
      "        Vector Action space size (per agent): 4\n",
      "        Vector Action descriptions: , , , \n"
     ]
    }
   ],
   "source": [
    "#env_path = \"Banana_Linux_NoVis/Banana.x86_64\"\n",
    "env_path = \"Banana_Windows_x86_64/Banana.exe\"\n",
    "\n",
    "env = UnityEnvironment(file_name=env_path)"
   ]
  },
  {
   "cell_type": "markdown",
   "metadata": {},
   "source": [
    "Environments contain **_brains_** which are responsible for deciding the actions of their associated agents. Here we check for the first brain available, and set it as the default brain we will be controlling from Python."
   ]
  },
  {
   "cell_type": "code",
   "execution_count": 3,
   "metadata": {},
   "outputs": [],
   "source": [
    "# get the default brain\n",
    "brain_name = env.brain_names[0]\n",
    "brain = env.brains[brain_name]"
   ]
  },
  {
   "cell_type": "markdown",
   "metadata": {},
   "source": [
    "## 3. Examine the State and Action Spaces\n",
    "\n",
    "The simulation contains a single agent that navigates a large environment.  At each time step, it has four actions at its disposal:\n",
    "- `0` - walk forward \n",
    "- `1` - walk backward\n",
    "- `2` - turn left\n",
    "- `3` - turn right\n",
    "\n",
    "The state space has `37` dimensions and contains the agent's velocity, along with ray-based perception of objects around agent's forward direction.  A reward of `+1` is provided for collecting a yellow banana, and a reward of `-1` is provided for collecting a blue banana. \n",
    "\n",
    "Run the code cell below to print some information about the environment."
   ]
  },
  {
   "cell_type": "code",
   "execution_count": 4,
   "metadata": {},
   "outputs": [
    {
     "name": "stdout",
     "output_type": "stream",
     "text": [
      "Number of agents: 1\n",
      "Number of actions: 4\n",
      "States look like: [1.         0.         0.         0.         0.84408134 0.\n",
      " 0.         1.         0.         0.0748472  0.         1.\n",
      " 0.         0.         0.25755    1.         0.         0.\n",
      " 0.         0.74177343 0.         1.         0.         0.\n",
      " 0.25854847 0.         0.         1.         0.         0.09355672\n",
      " 0.         1.         0.         0.         0.31969345 0.\n",
      " 0.        ]\n",
      "States have length: 37\n"
     ]
    }
   ],
   "source": [
    "# reset the environment\n",
    "env_info = env.reset(train_mode=True)[brain_name]\n",
    "\n",
    "# number of agents in the environment\n",
    "print('Number of agents:', len(env_info.agents))\n",
    "\n",
    "# number of actions\n",
    "action_size = brain.vector_action_space_size\n",
    "print('Number of actions:', action_size)\n",
    "\n",
    "# examine the state space \n",
    "state = env_info.vector_observations[0]\n",
    "print('States look like:', state)\n",
    "state_size = len(state)\n",
    "print('States have length:', state_size)"
   ]
  },
  {
   "cell_type": "markdown",
   "metadata": {},
   "source": [
    "## 4. Define helper functions to Agent trainment\n",
    "\n",
    "Here we'll create a function that can be very helpful to teach the agent."
   ]
  },
  {
   "cell_type": "code",
   "execution_count": 5,
   "metadata": {},
   "outputs": [],
   "source": [
    "def dqn_trainer(agent, n_episodes=100, print_range=10, eps_start=1.0, eps_end=0.01, eps_decay=0.995, early_stop=13, verbose=False):\n",
    "    \"\"\"Deep Q-Learning trainer.\n",
    "    \n",
    "    Params\n",
    "    ======\n",
    "        n_episodes (int): maximum number of training episodes\n",
    "        print_range (int): range to print partials results\n",
    "        eps_start (float): starting value of epsilon, for epsilon-greedy action selection\n",
    "        eps_end (float): minimum value of epsilon\n",
    "        eps_decay (float): multiplicative factor (per episode) for decreasing epsilon\n",
    "        early_stop (int): Stop training when achieve a defined score respecting 10 min n_episodes.\n",
    "    \"\"\"\n",
    "    scores = []                        # list containing scores from each episode\n",
    "    scores_window = deque(maxlen=print_range)  # last 100 scores\n",
    "    scores_mean = []\n",
    "    eps = eps_start                    # initialize epsilon\n",
    "    for i in range(1, n_episodes+1):\n",
    "        env_info = env.reset(train_mode=True)[brain_name]\n",
    "        state = env_info.vector_observations[0]\n",
    "        score = 0\n",
    "        \n",
    "        while True:\n",
    "            action = agent.act(state, eps)\n",
    "            env_info = env.step(action)[brain_name]\n",
    "            next_state = env_info.vector_observations[0]\n",
    "            reward = env_info.rewards[0]\n",
    "            done = env_info.local_done[0] \n",
    "            agent.step(state, action, reward, next_state, done, i)\n",
    "            state = next_state\n",
    "            score += reward\n",
    "            if done:\n",
    "                break\n",
    "                \n",
    "        scores_window.append(score)       # save most recent score\n",
    "        scores.append(score)              # save most recent score\n",
    "        eps = max(eps_end, eps_decay*eps) # decrease epsilon\n",
    "        if verbose:\n",
    "            print('\\rEpisode {}\\tAverage Score: {:.2f}'.format(i, np.mean(scores_window)), end=\"\")\n",
    "            if i % print_range == 0:\n",
    "                print('\\rEpisode {}\\tAverage Score: {:.2f}'.format(i, np.mean(scores_window)))\n",
    "            \n",
    "        if np.mean(scores_window) >= early_stop and i > 10:\n",
    "            if verbose:\n",
    "                print('\\nEnvironment solved in {:d} episodes!\\tAverage Score: {:.2f}'.format(i, np.mean(scores_window)))\n",
    "            break\n",
    "            \n",
    "    return scores, i, np.mean(scores_window)"
   ]
  },
  {
   "cell_type": "markdown",
   "metadata": {},
   "source": [
    "## 5. Develop the Agent to collect bananas\n",
    "\n",
    "In the next code cells, we will train the Agent to work on environment."
   ]
  },
  {
   "cell_type": "markdown",
   "metadata": {},
   "source": [
    "### 5.1 Agent with ReplayMemory\n",
    "\n",
    "In the next cell we'll teach an agent with `ReplayMemory`."
   ]
  },
  {
   "cell_type": "code",
   "execution_count": 7,
   "metadata": {
    "scrolled": true
   },
   "outputs": [
    {
     "name": "stdout",
     "output_type": "stream",
     "text": [
      "Episode 10\tAverage Score: 0.00\n",
      "Episode 20\tAverage Score: 0.90\n",
      "Episode 30\tAverage Score: 0.200\n",
      "Episode 40\tAverage Score: 0.50\n",
      "Episode 50\tAverage Score: 0.50\n",
      "Episode 60\tAverage Score: 1.90\n",
      "Episode 70\tAverage Score: 2.80\n",
      "Episode 80\tAverage Score: 1.90\n",
      "Episode 90\tAverage Score: 1.20\n",
      "Episode 100\tAverage Score: 3.00\n",
      "Episode 110\tAverage Score: 1.70\n",
      "Episode 120\tAverage Score: 3.90\n",
      "Episode 130\tAverage Score: 2.40\n",
      "Episode 140\tAverage Score: 5.60\n",
      "Episode 150\tAverage Score: 2.90\n",
      "Episode 160\tAverage Score: 3.80\n",
      "Episode 170\tAverage Score: 5.70\n",
      "Episode 180\tAverage Score: 4.00\n",
      "Episode 190\tAverage Score: 7.30\n",
      "Episode 200\tAverage Score: 7.60\n",
      "Episode 210\tAverage Score: 5.70\n",
      "Episode 220\tAverage Score: 6.90\n",
      "Episode 230\tAverage Score: 6.30\n",
      "Episode 240\tAverage Score: 7.30\n",
      "Episode 250\tAverage Score: 9.80\n",
      "Episode 260\tAverage Score: 9.200\n",
      "Episode 270\tAverage Score: 9.20\n",
      "Episode 280\tAverage Score: 7.50\n",
      "Episode 290\tAverage Score: 10.90\n",
      "Episode 300\tAverage Score: 7.700\n",
      "Episode 310\tAverage Score: 8.40\n",
      "Episode 320\tAverage Score: 8.50\n",
      "Episode 330\tAverage Score: 9.600\n",
      "Episode 340\tAverage Score: 10.10\n",
      "Episode 350\tAverage Score: 9.100\n",
      "Episode 360\tAverage Score: 10.40\n",
      "Episode 370\tAverage Score: 7.800\n",
      "Episode 380\tAverage Score: 10.30\n",
      "Episode 389\tAverage Score: 13.00\n",
      "Environment solved in 389 episodes!\tAverage Score: 13.00\n"
     ]
    },
    {
     "data": {
      "image/png": "[encoded data removed]",
      "text/plain": [
       "<Figure size 432x288 with 1 Axes>"
      ]
     },
     "metadata": {
      "needs_background": "light"
     },
     "output_type": "display_data"
    },
    {
     "name": "stdout",
     "output_type": "stream",
     "text": [
      "Wall time: 3min 38s\n"
     ]
    }
   ],
   "source": [
    "%%time\n",
    "\n",
    "env_info = env.reset(train_mode=True)[brain_name]\n",
    "\n",
    "agent = Agent(state_size=state_size, action_size=action_size, seed=199, nb_hidden=(64, 64),\n",
    "              learning_rate=0.001, memory_size=int(1e6), prioritized_memory=False, batch_size=64,\n",
    "              gamma=0.9, tau=0.03, small_eps=0.03, update_every=4)\n",
    "\n",
    "scores, episodes, last_avg_score = dqn_trainer(agent, n_episodes=500, early_stop=13, verbose=True)\n",
    "\n",
    "# plot the scores\n",
    "fig = plt.figure()\n",
    "ax = fig.add_subplot(111)\n",
    "plt.plot(np.arange(len(scores)), scores)\n",
    "plt.ylabel('Average Score')\n",
    "plt.xlabel('Episode #')\n",
    "plt.show()"
   ]
  },
  {
   "cell_type": "markdown",
   "metadata": {},
   "source": [
    "### 5.2 Agent with PrioritizedMemory\n",
    "\n",
    "In the next cell we'll teach an agent with `PrioritizedMemory`.\n",
    "\n",
    "**Important!**: The agent takes a lot of time to learn."
   ]
  },
  {
   "cell_type": "code",
   "execution_count": 8,
   "metadata": {},
   "outputs": [
    {
     "name": "stdout",
     "output_type": "stream",
     "text": [
      "Episode 10\tAverage Score: -0.10\n",
      "Episode 20\tAverage Score: 0.000\n",
      "Episode 30\tAverage Score: 0.000\n",
      "Episode 40\tAverage Score: -0.10\n",
      "Episode 50\tAverage Score: 0.200\n",
      "Episode 60\tAverage Score: 1.10\n",
      "Episode 70\tAverage Score: 1.50\n",
      "Episode 80\tAverage Score: 2.40\n",
      "Episode 90\tAverage Score: 3.00\n",
      "Episode 100\tAverage Score: 2.40\n",
      "Episode 110\tAverage Score: 1.80\n",
      "Episode 120\tAverage Score: 4.20\n",
      "Episode 130\tAverage Score: 2.80\n",
      "Episode 140\tAverage Score: 3.30\n",
      "Episode 150\tAverage Score: 4.40\n",
      "Episode 160\tAverage Score: 4.10\n",
      "Episode 170\tAverage Score: 5.70\n",
      "Episode 180\tAverage Score: 4.20\n",
      "Episode 190\tAverage Score: 6.20\n",
      "Episode 200\tAverage Score: 6.20\n",
      "Episode 210\tAverage Score: 8.40\n",
      "Episode 220\tAverage Score: 6.90\n",
      "Episode 230\tAverage Score: 8.10\n",
      "Episode 240\tAverage Score: 6.90\n",
      "Episode 250\tAverage Score: 9.30\n",
      "Episode 260\tAverage Score: 7.40\n",
      "Episode 270\tAverage Score: 8.30\n",
      "Episode 280\tAverage Score: 8.90\n",
      "Episode 290\tAverage Score: 8.30\n",
      "Episode 300\tAverage Score: 10.90\n",
      "Episode 310\tAverage Score: 11.90\n",
      "Episode 320\tAverage Score: 11.10\n",
      "Episode 330\tAverage Score: 9.100\n",
      "Episode 340\tAverage Score: 8.40\n",
      "Episode 350\tAverage Score: 10.50\n",
      "Episode 360\tAverage Score: 8.900\n",
      "Episode 370\tAverage Score: 13.00\n",
      "\n",
      "Environment solved in 370 episodes!\tAverage Score: 13.00\n"
     ]
    },
    {
     "data": {
      "image/png": "[encoded data removed]",
      "text/plain": [
       "<Figure size 432x288 with 1 Axes>"
      ]
     },
     "metadata": {
      "needs_background": "light"
     },
     "output_type": "display_data"
    },
    {
     "name": "stdout",
     "output_type": "stream",
     "text": [
      "Wall time: 11h 29min 25s\n"
     ]
    }
   ],
   "source": [
    "%%time\n",
    "\n",
    "env_info = env.reset(train_mode=True)[brain_name]\n",
    "\n",
    "agent = Agent(state_size=state_size, action_size=action_size, seed=199, nb_hidden=(64, 64),\n",
    "              learning_rate=0.001, memory_size=int(1e6), prioritized_memory=True, batch_size=64,\n",
    "              gamma=0.9, tau=0.03, small_eps=0.03, update_every=4)\n",
    "\n",
    "scores, episodes, last_avg_score = dqn_trainer(agent, n_episodes=500, early_stop=13, verbose=True)\n",
    "\n",
    "# plot the scores\n",
    "fig = plt.figure()\n",
    "ax = fig.add_subplot(111)\n",
    "plt.plot(np.arange(len(scores)), scores)\n",
    "plt.ylabel('Average Score')\n",
    "plt.xlabel('Episode #')\n",
    "plt.show()"
   ]
  },
  {
   "cell_type": "markdown",
   "metadata": {},
   "source": [
    "The agent with prioritized memory took a lot of time on training session, but with slightly less episodes."
   ]
  },
  {
   "cell_type": "markdown",
   "metadata": {},
   "source": [
    "### 5.3 Plot agents losses along the training sessions"
   ]
  },
  {
   "cell_type": "code",
   "execution_count": 9,
   "metadata": {},
   "outputs": [
    {
     "data": {
      "image/png": "[encoded data removed]",
      "text/plain": [
       "<Figure size 432x288 with 1 Axes>"
      ]
     },
     "metadata": {
      "needs_background": "light"
     },
     "output_type": "display_data"
    }
   ],
   "source": [
    "plt.plot(agent.losses)\n",
    "plt.title(\"Losses\")\n",
    "plt.show()"
   ]
  },
  {
   "cell_type": "markdown",
   "metadata": {},
   "source": [
    "### 5.4 Save weights"
   ]
  },
  {
   "cell_type": "code",
   "execution_count": 10,
   "metadata": {},
   "outputs": [],
   "source": [
    "model_path = \"model.pt\"\n",
    "agent.save_model(model_path)"
   ]
  },
  {
   "cell_type": "markdown",
   "metadata": {},
   "source": [
    "### 5.5 Load weights"
   ]
  },
  {
   "cell_type": "code",
   "execution_count": 11,
   "metadata": {},
   "outputs": [],
   "source": [
    "model_path = \"model.pt\"\n",
    "agent.load_model(model_path)"
   ]
  },
  {
   "cell_type": "markdown",
   "metadata": {},
   "source": [
    "### 6. Test Agent on Environment\n",
    "\n",
    "In the next code cell, you will learn how to use the Python API to control the agent and receive feedback from the environment.\n",
    "\n",
    "Once this cell is executed, you will watch the agent's performance."
   ]
  },
  {
   "cell_type": "code",
   "execution_count": 18,
   "metadata": {},
   "outputs": [
    {
     "name": "stdout",
     "output_type": "stream",
     "text": [
      "Score: 24.0\n"
     ]
    }
   ],
   "source": [
    "env_info = env.reset(train_mode=False)[brain_name]\n",
    "state = env_info.vector_observations[0]\n",
    "score = 0\n",
    "eps = 0.05\n",
    "while True:\n",
    "    action = agent.act(state, eps)\n",
    "    env_info = env.step(action)[brain_name]\n",
    "    next_state = env_info.vector_observations[0]\n",
    "    reward = env_info.rewards[0]\n",
    "    done = env_info.local_done[0]\n",
    "    score += reward\n",
    "    state = next_state\n",
    "    if done:\n",
    "        break\n",
    "    \n",
    "print(\"Score: {}\".format(score))"
   ]
  },
  {
   "cell_type": "markdown",
   "metadata": {},
   "source": [
    "When finished, you can close the environment."
   ]
  },
  {
   "cell_type": "code",
   "execution_count": null,
   "metadata": {},
   "outputs": [],
   "source": [
    "env.close()"
   ]
  },
  {
   "cell_type": "markdown",
   "metadata": {},
   "source": [
    "## 7. Conclusions\n",
    "\n",
    "When we test the trained agent on the environment, we can see that the agent with prioritized memory has more difficult when we don't have yellow bananas near from the agent.\n",
    "\n",
    "This problem is reduced in trained agent with Replay Memory (with random samples).\n",
    "\n",
    "To improve the agent we can add a dueling network and try to reproduce epsilon logic on samples choice of Prioritized Memory."
   ]
  }
 ],
 "metadata": {
  "kernelspec": {
   "display_name": "Python 3",
   "language": "python",
   "name": "python3"
  },
  "language_info": {
   "codemirror_mode": {
    "name": "ipython",
    "version": 3
   },
   "file_extension": ".py",
   "mimetype": "text/x-python",
   "name": "python",
   "nbconvert_exporter": "python",
   "pygments_lexer": "ipython3",
   "version": "3.6.10"
  }
 },
 "nbformat": 4,
 "nbformat_minor": 2
}
