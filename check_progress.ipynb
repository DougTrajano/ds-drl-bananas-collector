{
 "cells": [
  {
   "cell_type": "code",
   "execution_count": 2,
   "metadata": {},
   "outputs": [],
   "source": [
    "import json\n",
    "import pandas as pd\n",
    "\n",
    "with open('gridsearch_logs.json') as json_file:\n",
    "    data = json.load(json_file)"
   ]
  },
  {
   "cell_type": "code",
   "execution_count": 3,
   "metadata": {},
   "outputs": [
    {
     "name": "stdout",
     "output_type": "stream",
     "text": [
      "Completed training sessions: 1 (0.04%)\n",
      "Best score at the moment: 2.5\n"
     ]
    }
   ],
   "source": [
    "contador = 0\n",
    "avg_score = 0\n",
    "lst = []\n",
    "for each in data:\n",
    "    if each.get(\"avg_score\") != None:\n",
    "        if avg_score < each.get(\"avg_score\"):\n",
    "            avg_score = each.get(\"avg_score\")\n",
    "        contador += 1\n",
    "        lst.append(each)\n",
    "        \n",
    "print(\"Completed training sessions:\", contador, \"({}%)\".format(round((contador / len(data)), 4)*100))\n",
    "print(\"Best score at the moment:\", avg_score)"
   ]
  },
  {
   "cell_type": "code",
   "execution_count": 4,
   "metadata": {},
   "outputs": [
    {
     "data": {
      "text/html": [
       "<div>\n",
       "<style scoped>\n",
       "    .dataframe tbody tr th:only-of-type {\n",
       "        vertical-align: middle;\n",
       "    }\n",
       "\n",
       "    .dataframe tbody tr th {\n",
       "        vertical-align: top;\n",
       "    }\n",
       "\n",
       "    .dataframe thead th {\n",
       "        text-align: right;\n",
       "    }\n",
       "</style>\n",
       "<table border=\"1\" class=\"dataframe\">\n",
       "  <thead>\n",
       "    <tr style=\"text-align: right;\">\n",
       "      <th></th>\n",
       "      <th>avg_score</th>\n",
       "      <th>episodes</th>\n",
       "      <th>params</th>\n",
       "      <th>score_history</th>\n",
       "      <th>training_time</th>\n",
       "    </tr>\n",
       "  </thead>\n",
       "  <tbody>\n",
       "    <tr>\n",
       "      <th>0</th>\n",
       "      <td>2.5</td>\n",
       "      <td>200</td>\n",
       "      <td>{'action_size': 4, 'batch_size': 64, 'gamma': ...</td>\n",
       "      <td>[1.0, 0.0, 0.0, 0.0, -1.0, 0.0, 0.0, 0.0, 1.0,...</td>\n",
       "      <td>0:21:24</td>\n",
       "    </tr>\n",
       "  </tbody>\n",
       "</table>\n",
       "</div>"
      ],
      "text/plain": [
       "   avg_score  episodes                                             params  \\\n",
       "0        2.5       200  {'action_size': 4, 'batch_size': 64, 'gamma': ...   \n",
       "\n",
       "                                       score_history training_time  \n",
       "0  [1.0, 0.0, 0.0, 0.0, -1.0, 0.0, 0.0, 0.0, 1.0,...       0:21:24  "
      ]
     },
     "execution_count": 4,
     "metadata": {},
     "output_type": "execute_result"
    }
   ],
   "source": [
    "df = pd.DataFrame(lst)\n",
    "df.sort_values(by=\"avg_score\", ascending=False).head()"
   ]
  },
  {
   "cell_type": "code",
   "execution_count": null,
   "metadata": {},
   "outputs": [],
   "source": []
  }
 ],
 "metadata": {
  "kernelspec": {
   "display_name": "conda_python3",
   "language": "python",
   "name": "conda_python3"
  },
  "language_info": {
   "codemirror_mode": {
    "name": "ipython",
    "version": 3
   },
   "file_extension": ".py",
   "mimetype": "text/x-python",
   "name": "python",
   "nbconvert_exporter": "python",
   "pygments_lexer": "ipython3",
   "version": "3.6.5"
  }
 },
 "nbformat": 4,
 "nbformat_minor": 4
}
